{
 "cells": [
  {
   "cell_type": "code",
   "execution_count": 1,
   "id": "6f35eecd-661a-401a-8f21-7e99699194d8",
   "metadata": {},
   "outputs": [
    {
     "name": "stdin",
     "output_type": "stream",
     "text": [
      "Input a value of n: 29\n"
     ]
    },
    {
     "name": "stdout",
     "output_type": "stream",
     "text": [
      "Above 29.0 is 30.0\n",
      "Below 29.0 is 28.0\n",
      "Left of 29.0 is 12.0\n",
      "Right of 29.0 is 54.0\n"
     ]
    }
   ],
   "source": [
    "import numpy as np\n",
    "\n",
    "# currently only works for k odd, and only for some n values. Need to add in the other cases\n",
    "\n",
    "n = float(input(\"Input a value of n:\"))\n",
    "k = np.floor(np.sqrt(n))\n",
    "left = 0\n",
    "right = 0\n",
    "above = 0\n",
    "below = 0\n",
    "\n",
    "if k%2 == 1:\n",
    "    if n==k**2:\n",
    "        left = n-1\n",
    "        right = n+1\n",
    "        above = (k-2)**2 + 1\n",
    "        below = (k+2)**2 - 1\n",
    "    elif n == k**2+1:\n",
    "        above = k**2+2\n",
    "        left = k**2\n",
    "        below = (k+2)**2\n",
    "        right = (k+2)**2 + 2\n",
    "    elif (k**2 + 2) <= n <= (k**2 + k):\n",
    "        below = n-1\n",
    "        above = n+1\n",
    "        left = (k-2)**2 + (n-k**2) - 1\n",
    "        right = (k+2)**2 + (n-k**2) + 1\n",
    "    else:\n",
    "        print(\"Haven't written this case yet\")\n",
    "else:\n",
    "    print(\"Haven't yet written cases for when k^2 is even\")\n",
    "\n",
    "print(f\"Above {n} is {above}\")\n",
    "print(f\"Below {n} is {below}\")\n",
    "print(f\"Left of {n} is {left}\")\n",
    "print(f\"Right of {n} is {right}\")"
   ]
  }
 ],
 "metadata": {
  "kernelspec": {
   "display_name": "Python 3 (ipykernel)",
   "language": "python",
   "name": "python3"
  },
  "language_info": {
   "codemirror_mode": {
    "name": "ipython",
    "version": 3
   },
   "file_extension": ".py",
   "mimetype": "text/x-python",
   "name": "python",
   "nbconvert_exporter": "python",
   "pygments_lexer": "ipython3",
   "version": "3.11.5"
  }
 },
 "nbformat": 4,
 "nbformat_minor": 5
}
