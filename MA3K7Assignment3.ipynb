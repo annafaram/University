{
 "cells": [
  {
   "cell_type": "code",
   "execution_count": 1,
   "id": "f658b463-4607-4d8c-b793-081c08a12909",
   "metadata": {},
   "outputs": [],
   "source": [
    "import numpy as np\n",
    "import matplotlib.pyplot as plt\n",
    "import seaborn as sns\n",
    "\n",
    "rng = np.random.default_rng()\n",
    "def hat_simulation(n):\n",
    "    hat = np.arange(1, n+1)\n",
    "    while len(hat)>1:\n",
    "        i = rng.integers(0,len(hat))\n",
    "        x_1 = hat[i]\n",
    "        hat = np.delete(hat, i)\n",
    "        i = rng.integers(0,len(hat))\n",
    "        x_2 = hat[i]\n",
    "        hat = np.delete(hat, i)\n",
    "        \n",
    "        difference = np.absolute(x_1 - x_2)\n",
    "        hat = np.append(hat, difference)\n",
    "    return hat\n",
    "\n",
    "for i in range(100):\n",
    "    final_num = hat_simulation(2024)\n",
    "    if final_num % 2 == 1:\n",
    "        print(final_num)\n",
    "    \n",
    "# results I got running the simulation the first 15 times: 84, 212, 362, 1026, 76, 102, 264, 52, 94, 292, 96, 390, 66, 880, 1228"
   ]
  },
  {
   "cell_type": "code",
   "execution_count": 2,
   "id": "fc6dab51-1700-41d2-98f8-53e2ffcaa097",
   "metadata": {},
   "outputs": [
    {
     "name": "stderr",
     "output_type": "stream",
     "text": [
      "C:\\Users\\AF\\AppData\\Local\\Temp\\ipykernel_11544\\3041517065.py:4: DeprecationWarning: Conversion of an array with ndim > 0 to a scalar is deprecated, and will error in future. Ensure you extract a single element from your array before performing this operation. (Deprecated NumPy 1.25.)\n",
      "  outcomes[i] = hat_simulation(2024)\n",
      "C:\\Users\\AF\\anaconda3\\Lib\\site-packages\\seaborn\\_oldcore.py:1119: FutureWarning: use_inf_as_na option is deprecated and will be removed in a future version. Convert inf values to NaN before operating instead.\n",
      "  with pd.option_context('mode.use_inf_as_na', True):\n"
     ]
    },
    {
     "data": {
      "image/png": "[encoded data removed]",
      "text/plain": [
       "<Figure size 640x480 with 1 Axes>"
      ]
     },
     "metadata": {},
     "output_type": "display_data"
    }
   ],
   "source": [
    "N = 5000 # number of simulations to plot\n",
    "outcomes = np.zeros(N)\n",
    "for i in range(N):\n",
    "    outcomes[i] = hat_simulation(2024)\n",
    "\n",
    "sns.histplot(outcomes, bins=2024, stat = 'frequency')\n",
    "plt.show()"
   ]
  },
  {
   "cell_type": "code",
   "execution_count": 3,
   "id": "518e8114-5bda-445a-9334-913a199ad312",
   "metadata": {},
   "outputs": [
    {
     "name": "stdout",
     "output_type": "stream",
     "text": [
      "For n = 4, the final number was even 1000 times and odd 0 times.\n",
      "For n = 5, the final number was even 0 times and odd 1000 times.\n",
      "For n = 6, the final number was even 0 times and odd 1000 times.\n",
      "For n = 7, the final number was even 1000 times and odd 0 times.\n",
      "For n = 8, the final number was even 1000 times and odd 0 times.\n",
      "For n = 9, the final number was even 0 times and odd 1000 times.\n",
      "For n = 10, the final number was even 0 times and odd 1000 times.\n",
      "For n = 11, the final number was even 1000 times and odd 0 times.\n",
      "For n = 12, the final number was even 1000 times and odd 0 times.\n",
      "For n = 13, the final number was even 0 times and odd 1000 times.\n",
      "For n = 14, the final number was even 0 times and odd 1000 times.\n",
      "For n = 15, the final number was even 1000 times and odd 0 times.\n",
      "For n = 16, the final number was even 1000 times and odd 0 times.\n",
      "For n = 17, the final number was even 0 times and odd 1000 times.\n",
      "For n = 18, the final number was even 0 times and odd 1000 times.\n",
      "For n = 19, the final number was even 1000 times and odd 0 times.\n",
      "For n = 20, the final number was even 1000 times and odd 0 times.\n"
     ]
    }
   ],
   "source": [
    "for n in range(4,21): # number of pieces of paper in hat at start\n",
    "    evens = 0\n",
    "    odds = 0\n",
    "    for i in range(1000): # number of games simulated for each n\n",
    "        final_num = hat_simulation(n)\n",
    "        if final_num % 2 == 0:\n",
    "            evens += 1\n",
    "        else:\n",
    "            odds += 1\n",
    "    print(f\"For n = {n}, the final number was even {evens} times and odd {odds} times.\")"
   ]
  }
 ],
 "metadata": {
  "kernelspec": {
   "display_name": "Python 3 (ipykernel)",
   "language": "python",
   "name": "python3"
  },
  "language_info": {
   "codemirror_mode": {
    "name": "ipython",
    "version": 3
   },
   "file_extension": ".py",
   "mimetype": "text/x-python",
   "name": "python",
   "nbconvert_exporter": "python",
   "pygments_lexer": "ipython3",
   "version": "3.11.5"
  }
 },
 "nbformat": 4,
 "nbformat_minor": 5
}
