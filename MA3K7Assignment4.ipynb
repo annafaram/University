{
 "cells": [
  {
   "cell_type": "code",
   "execution_count": 1,
   "id": "dfcf20ed-d212-4922-acdd-35eb13a34605",
   "metadata": {},
   "outputs": [],
   "source": [
    "import numpy as np\n",
    "from math import comb\n",
    "import sympy as sp\n",
    "from sympy.abc import m\n",
    "import matplotlib.pyplot as plt"
   ]
  },
  {
   "cell_type": "markdown",
   "id": "aa9d995f-7067-4e61-889c-f47fa016c755",
   "metadata": {},
   "source": [
    "### Computing the sum from Method 1"
   ]
  },
  {
   "cell_type": "code",
   "execution_count": 2,
   "id": "a890fabb-e264-45d1-872a-fb0002dec037",
   "metadata": {},
   "outputs": [
    {
     "name": "stdout",
     "output_type": "stream",
     "text": [
      "0.6666666865348816\n"
     ]
    }
   ],
   "source": [
    "sum = 0\n",
    "for k in range(13):\n",
    "    sum += 0.5**(24-k)*comb(24-k,k)\n",
    "print(sum)"
   ]
  },
  {
   "cell_type": "markdown",
   "id": "c1227a15-ca55-4227-a023-092c15666baa",
   "metadata": {},
   "source": [
    "### Solving the recurrence relation from Method 2, using the method of characteristics"
   ]
  },
  {
   "cell_type": "code",
   "execution_count": 3,
   "id": "174b900f-f467-4d44-8b86-e454fced58ef",
   "metadata": {},
   "outputs": [
    {
     "name": "stdout",
     "output_type": "stream",
     "text": [
      "0.666666686534882\n"
     ]
    }
   ],
   "source": [
    "M = sp.solve(2*m**2-m-1, m) # solving characteristic polynomial, solutions are M[0] and M[1]\n",
    "\n",
    "x, y = sp.symbols(\"x,y\")\n",
    "A = sp.Matrix([[M[0], M[1]], [M[0]**2, M[1]**2]])\n",
    "b = sp.Matrix([1, 0.5])\n",
    "C,= sp.linsolve((A, b), x, y) # solving linear system\n",
    "\n",
    "def P(n):\n",
    "    return C[0]*M[0]**n + C[1]*M[1]**n\n",
    "\n",
    "print(P(25))"
   ]
  },
  {
   "cell_type": "code",
   "execution_count": 4,
   "id": "552a2049-6c98-4d62-beed-3085ffb2c605",
   "metadata": {},
   "outputs": [
    {
     "data": {
      "image/png": "[encoded data removed]",
      "text/plain": [
       "<Figure size 640x480 with 1 Axes>"
      ]
     },
     "metadata": {},
     "output_type": "display_data"
    }
   ],
   "source": [
    "n_values = np.arange(1,30)\n",
    "plt.plot(n_values, P(n_values))\n",
    "plt.xlabel(\"n\")\n",
    "plt.ylabel(\"P_n\")\n",
    "plt.show()"
   ]
  },
  {
   "cell_type": "markdown",
   "id": "f069fe02-567f-40ef-b1d0-2edf5d938d2a",
   "metadata": {},
   "source": [
    "### Extension"
   ]
  },
  {
   "cell_type": "code",
   "execution_count": 5,
   "id": "6c425fa8-964d-45f6-9508-84eb3110ae2e",
   "metadata": {},
   "outputs": [
    {
     "name": "stdout",
     "output_type": "stream",
     "text": [
      "Probability of landing on 25 when p=0.5:  0.6666666865348816\n",
      "Probability of landing on 25 when p=1 (expected value 1):  1.0\n",
      "Probability of landing on 24 when p=0.5 (expected value 0):  0.33333325386047363\n"
     ]
    }
   ],
   "source": [
    "def P(n,p):\n",
    "    return (4*(p-1)/3)*(-1/2)**n + ((2*p)+1)/3\n",
    "\n",
    "print(\"Probability of landing on 25 when p=0.5: \", P(25, 0.5))\n",
    "print(\"Probability of landing on 25 when p=1 (expected value 1): \", P(25, 1)) # this should print 1, because if you only throw 1's then you are guaranteed to land on every number\n",
    "print(\"Probability of landing on 24 when p=0.5 (expected value 0): \", P(24, 0)) # this should print 0, because if you only throw 2's then it is impossible to land on an even number"
   ]
  },
  {
   "cell_type": "code",
   "execution_count": null,
   "id": "b32885f1-5e20-44e1-9960-2a7d88600b76",
   "metadata": {},
   "outputs": [],
   "source": []
  }
 ],
 "metadata": {
  "kernelspec": {
   "display_name": "Python 3 (ipykernel)",
   "language": "python",
   "name": "python3"
  },
  "language_info": {
   "codemirror_mode": {
    "name": "ipython",
    "version": 3
   },
   "file_extension": ".py",
   "mimetype": "text/x-python",
   "name": "python",
   "nbconvert_exporter": "python",
   "pygments_lexer": "ipython3",
   "version": "3.11.5"
  }
 },
 "nbformat": 4,
 "nbformat_minor": 5
}
