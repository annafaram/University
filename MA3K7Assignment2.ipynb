{
 "cells": [
  {
   "cell_type": "markdown",
   "id": "cba74a11-44b2-4cc3-bd3e-0543e5716ebd",
   "metadata": {},
   "source": [
    "## MA3K7 Problem Solving with Python Assignment 2"
   ]
  },
  {
   "cell_type": "code",
   "execution_count": 1,
   "id": "d29f64a2-6ea0-481f-aeb4-85a67a865e35",
   "metadata": {},
   "outputs": [
    {
     "name": "stdout",
     "output_type": "stream",
     "text": [
      "For n = 2, if each player places their number at random each turn, then if we simulate 10000 games:\n",
      "The win rate for player 0 is 0.6669 if 0 goes first\n",
      "The win rate for player 0 is 0.6665 if 1 goes first\n",
      "\n",
      "For n = 3, if each player places their number at random each turn, then if we simulate 10000 games:\n",
      "The win rate for player 0 is 0.7164 if 0 goes first\n",
      "The win rate for player 0 is 0.4344 if 1 goes first\n",
      "\n",
      "For n = 4, if each player places their number at random each turn, then if we simulate 10000 games:\n",
      "The win rate for player 0 is 0.5954 if 0 goes first\n",
      "The win rate for player 0 is 0.5817 if 1 goes first\n",
      "\n",
      "For n = 5, if each player places their number at random each turn, then if we simulate 10000 games:\n",
      "The win rate for player 0 is 0.5991 if 0 goes first\n",
      "The win rate for player 0 is 0.5409 if 1 goes first\n",
      "\n",
      "For n = 9, if each player places their number at random each turn, then if we simulate 10000 games:\n",
      "The win rate for player 0 is 0.3258 if 0 goes first\n",
      "The win rate for player 0 is 0.3232 if 1 goes first\n",
      "\n",
      "For n = 10, if each player places their number at random each turn, then if we simulate 10000 games:\n",
      "The win rate for player 0 is 0.2372 if 0 goes first\n",
      "The win rate for player 0 is 0.24 if 1 goes first\n"
     ]
    }
   ],
   "source": [
    "import numpy as np\n",
    "\n",
    "rng = np.random.default_rng()\n",
    "\n",
    "def game_rndm(n,start): # start is the number written in the matrix first (1 or 0)\n",
    "    matrix = np.zeros((n,n),int)\n",
    "    count = 0\n",
    "    if start == 0:\n",
    "        number_ones = np.floor((n**2)/2)\n",
    "    else:\n",
    "        number_ones = np.ceil((n**2)/2)\n",
    "    while count != number_ones:\n",
    "        i = rng.integers(0,n)\n",
    "        j = rng.integers(0,n)\n",
    "        if matrix[i,j] == 0:\n",
    "            matrix[i,j] = 1\n",
    "            count += 1\n",
    "    return matrix\n",
    "\n",
    "def win_rate_rndm(n,start,trials):\n",
    "    wins = 0\n",
    "    for i in range(trials):\n",
    "        det = np.linalg.det(game_rndm(n,start))\n",
    "        if det == 0:\n",
    "            wins +=1\n",
    "    return wins/trials\n",
    "\n",
    "def win_rate_print(n,trials):\n",
    "    print(f\"For n = {n}, if each player places their number at random each turn, then if we simulate {trials} games:\")\n",
    "    print(f\"The win rate for player 0 is {win_rate_rndm(n,0,trials)} if 0 goes first\")\n",
    "    print(f\"The win rate for player 0 is {win_rate_rndm(n,1,trials)} if 1 goes first\")\n",
    "\n",
    "win_rate_print(2,10000)\n",
    "print()\n",
    "win_rate_print(3,10000)\n",
    "print()\n",
    "win_rate_print(4,10000)\n",
    "print()\n",
    "win_rate_print(5,10000)\n",
    "print()\n",
    "win_rate_print(9,10000)\n",
    "print()\n",
    "win_rate_print(10,10000)"
   ]
  },
  {
   "cell_type": "code",
   "execution_count": null,
   "id": "9ec4474e-ec65-4fa8-88ee-8d584dba4917",
   "metadata": {},
   "outputs": [],
   "source": []
  }
 ],
 "metadata": {
  "kernelspec": {
   "display_name": "Python 3 (ipykernel)",
   "language": "python",
   "name": "python3"
  },
  "language_info": {
   "codemirror_mode": {
    "name": "ipython",
    "version": 3
   },
   "file_extension": ".py",
   "mimetype": "text/x-python",
   "name": "python",
   "nbconvert_exporter": "python",
   "pygments_lexer": "ipython3",
   "version": "3.11.5"
  }
 },
 "nbformat": 4,
 "nbformat_minor": 5
}
